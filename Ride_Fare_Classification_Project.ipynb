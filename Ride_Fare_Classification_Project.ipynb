{
 "cells": [
  {
   "cell_type": "code",
   "execution_count": 1,
   "metadata": {},
   "outputs": [],
   "source": [
    "import numpy as np\n",
    "import pandas as pd\n",
    "\n",
    "from sklearn.metrics import f1_score, roc_auc_score\n",
    "\n",
    "from sklearn.preprocessing import StandardScaler\n",
    "from sklearn.impute import SimpleImputer\n",
    "from sklearn.compose import ColumnTransformer\n",
    "\n",
    "from sklearn.pipeline import Pipeline\n",
    "from sklearn.model_selection import train_test_split\n",
    "\n",
    "from sklearn.ensemble import RandomForestClassifier\n",
    "from xgboost import XGBClassifier\n",
    "from sklearn.ensemble import VotingClassifier\n",
    "from sklearn.neural_network import MLPClassifier"
   ]
  },
  {
   "cell_type": "code",
   "execution_count": 2,
   "metadata": {},
   "outputs": [],
   "source": [
    "features_df = pd.read_csv(\n",
    "    \"train.csv\", \n",
    "    index_col=\"tripid\"\n",
    ")"
   ]
  },
  {
   "cell_type": "code",
   "execution_count": 3,
   "metadata": {},
   "outputs": [],
   "source": [
    "features_df['label'] = np.where(features_df['label']=='correct', 1, 0)\n",
    "testSet = features_df['label']\n",
    "features_df= features_df.drop(['label'],axis=1)"
   ]
  },
  {
   "cell_type": "code",
   "execution_count": 4,
   "metadata": {},
   "outputs": [],
   "source": [
    "def formatDf(dataFrame):\n",
    "    dataFrame.pickup_time = pd.to_datetime(dataFrame.pickup_time)\n",
    "\n",
    "    dataFrame['is_fare_NAN'] = np.where(pd.isna(dataFrame['fare']), 1, 0)\n",
    "\n",
    "    dataFrame['running_time'] = dataFrame['duration'] - dataFrame['meter_waiting']\n",
    "\n",
    "    dataFrame['total_fare'] = dataFrame['fare'] - dataFrame['additional_fare'] - dataFrame['meter_waiting_fare']\n",
    "\n",
    "    dataFrame['diff_lat'] = dataFrame['drop_lat'] - dataFrame['pick_lat']\n",
    "    dataFrame['diff_lon'] = dataFrame['drop_lon'] - dataFrame['pick_lon']\n",
    "\n",
    "    dataFrame['distance'] = (dataFrame['diff_lat']**2 + dataFrame['diff_lon']**2)**(1/2)\n",
    "\n",
    "    dataFrame['pickup_hour'] = dataFrame['pickup_time'].apply(lambda row: row.hour)\n",
    "\n",
    "    dataFrame= dataFrame.drop(['diff_lat','diff_lon','drop_time','meter_waiting_till_pickup','pickup_time','drop_lat','drop_lon','pick_lat','pick_lon'],axis=1)\n",
    "    \n",
    "    return dataFrame"
   ]
  },
  {
   "cell_type": "code",
   "execution_count": 5,
   "metadata": {},
   "outputs": [],
   "source": [
    "features_df = formatDf(features_df)"
   ]
  },
  {
   "cell_type": "code",
   "execution_count": 7,
   "metadata": {},
   "outputs": [],
   "source": [
    "numeric_cols = features_df.columns[features_df.dtypes != \"object\"].values\n",
    "numeric_preprocessing_steps = Pipeline([\n",
    "    ('standard_scaler', StandardScaler()),\n",
    "    ('simple_imputer', SimpleImputer(strategy='median'))\n",
    "])"
   ]
  },
  {
   "cell_type": "code",
   "execution_count": 8,
   "metadata": {},
   "outputs": [],
   "source": [
    "X_train, X_eval, y_train, y_eval = train_test_split(\n",
    "    features_df,\n",
    "    testSet,\n",
    "    test_size=0.3,\n",
    "    random_state=6,\n",
    "    stratify=testSet\n",
    ")\n",
    "\n",
    "preprocessor = ColumnTransformer(\n",
    "    transformers = [\n",
    "        (\"numeric\", numeric_preprocessing_steps, numeric_cols)\n",
    "    ],\n",
    "    remainder = \"drop\"\n",
    ")\n"
   ]
  },
  {
   "cell_type": "code",
   "execution_count": 9,
   "metadata": {},
   "outputs": [],
   "source": [
    "mlp=MLPClassifier( solver='lbfgs', alpha=1, hidden_layer_sizes=(10,2), random_state=0,\n",
    "                         max_iter=1000, activation='tanh')\n",
    "\n",
    "rn=RandomForestClassifier(n_estimators=300)\n",
    "rn2=RandomForestClassifier(n_estimators=100)\n",
    "\n",
    "estimator = XGBClassifier(alpha = 0.01,learning_rate=0.1, n_estimators=1400, \n",
    "                          min_child_weight=3,gamma=1.4,subsample=0.9,colsample_bytree=0.8,max_depth=3)\n",
    "\n",
    "estimator2 = XGBClassifier(alpha = 0.01,learning_rate=0.1, n_estimators=1100, \n",
    "                          min_child_weight=3,gamma=1.4,subsample=0.9,colsample_bytree=0.8,max_depth=3)\n",
    "            \n",
    "classifiers = [('RandomForestClassifier1', rn),('xgb1', estimator), ('RandomForestClassifier2', rn2), ('xgb2', estimator2),('mlp', mlp)]\n",
    "\n",
    "vc = VotingClassifier(estimators=classifiers,voting='soft')  \n",
    "\n",
    "full_pipeline = Pipeline([\n",
    "    (\"preprocessor\", preprocessor),\n",
    "    (\"estimators\", vc),\n",
    "])"
   ]
  },
  {
   "cell_type": "code",
   "execution_count": 10,
   "metadata": {},
   "outputs": [],
   "source": [
    "full_pipeline.fit(X_train, y_train)\n",
    "preds = full_pipeline.predict(X_eval)"
   ]
  },
  {
   "cell_type": "code",
   "execution_count": 11,
   "metadata": {},
   "outputs": [],
   "source": [
    "y_preds = pd.DataFrame(\n",
    "    {\n",
    "        \"label\": preds\n",
    "    },\n",
    "    index = y_eval.index\n",
    ")"
   ]
  },
  {
   "cell_type": "code",
   "execution_count": 12,
   "metadata": {},
   "outputs": [
    {
     "name": "stdout",
     "output_type": "stream",
     "text": [
      "0.9543954977682904\n"
     ]
    }
   ],
   "source": [
    "print(full_pipeline.score(X_eval,y_eval))"
   ]
  },
  {
   "cell_type": "code",
   "execution_count": 13,
   "metadata": {},
   "outputs": [
    {
     "name": "stdout",
     "output_type": "stream",
     "text": [
      "0.80755269950527\n"
     ]
    }
   ],
   "source": [
    "print(roc_auc_score(y_eval, y_preds))"
   ]
  },
  {
   "cell_type": "code",
   "execution_count": 14,
   "metadata": {},
   "outputs": [
    {
     "name": "stdout",
     "output_type": "stream",
     "text": [
      "0.8517161342147429\n"
     ]
    }
   ],
   "source": [
    "print(f1_score(y_eval, y_preds, average='macro'))"
   ]
  },
  {
   "cell_type": "code",
   "execution_count": 15,
   "metadata": {},
   "outputs": [],
   "source": [
    "full_pipeline.fit(features_df, testSet)\n",
    "None"
   ]
  },
  {
   "cell_type": "code",
   "execution_count": 16,
   "metadata": {},
   "outputs": [],
   "source": [
    "preds2 = full_pipeline.predict(features_df)\n",
    "\n",
    "y_preds2 = pd.DataFrame(\n",
    "    {\n",
    "        \"label\": preds2\n",
    "    },\n",
    "    index = testSet.index\n",
    ")"
   ]
  },
  {
   "cell_type": "code",
   "execution_count": 17,
   "metadata": {},
   "outputs": [],
   "source": [
    "test_features_df = pd.read_csv(\"test.csv\", \n",
    "                               index_col=\"tripid\")\n",
    "\n",
    "test_features_df = formatDf(test_features_df)"
   ]
  },
  {
   "cell_type": "code",
   "execution_count": 18,
   "metadata": {},
   "outputs": [],
   "source": [
    "test_probas = full_pipeline.predict(test_features_df)\n",
    "\n",
    "submission_df = pd.read_csv(\"sample_submission.csv\", \n",
    "                            index_col=\"tripid\")\n",
    "\n",
    "np.testing.assert_array_equal(test_features_df.index.values, \n",
    "                              submission_df.index.values)\n",
    "submission_df[\"prediction\"] = test_probas\n",
    "\n",
    "submission_df.to_csv('my_submission.csv', index=True)"
   ]
  }
 ],
 "metadata": {
  "kernelspec": {
   "display_name": "Python 3",
   "language": "python",
   "name": "python3"
  },
  "language_info": {
   "codemirror_mode": {
    "name": "ipython",
    "version": 3
   },
   "file_extension": ".py",
   "mimetype": "text/x-python",
   "name": "python",
   "nbconvert_exporter": "python",
   "pygments_lexer": "ipython3",
   "version": "3.6.7"
  }
 },
 "nbformat": 4,
 "nbformat_minor": 4
}
